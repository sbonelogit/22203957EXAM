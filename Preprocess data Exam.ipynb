{
 "cells": [
  {
   "cell_type": "code",
   "execution_count": 1,
   "id": "b4ecdf9c-ea6d-4ccf-af91-ec0bdd3db073",
   "metadata": {},
   "outputs": [],
   "source": [
    "import pandas as pd\n",
    "from sklearn.preprocessing import MinMaxScaler"
   ]
  },
  {
   "cell_type": "code",
   "execution_count": 23,
   "id": "559f1cbb-ac77-4b8e-a783-adaba71f20a5",
   "metadata": {},
   "outputs": [
    {
     "name": "stdout",
     "output_type": "stream",
     "text": [
      "   Age Attrition     BusinessTravel  DailyRate              Department  \\\n",
      "0   41       Yes      Travel_Rarely       1102                   Sales   \n",
      "1   49        No  Travel_Frequently        279  Research & Development   \n",
      "2   37       Yes      Travel_Rarely       1373  Research & Development   \n",
      "3   33        No  Travel_Frequently       1392  Research & Development   \n",
      "4   27        No      Travel_Rarely        591  Research & Development   \n",
      "\n",
      "   DistanceFromHome  Education EducationField  EmployeeCount  EmployeeNumber  \\\n",
      "0                 1          2  Life Sciences              1               1   \n",
      "1                 8          1  Life Sciences              1               2   \n",
      "2                 2          2          Other              1               4   \n",
      "3                 3          4  Life Sciences              1               5   \n",
      "4                 2          1        Medical              1               7   \n",
      "\n",
      "   ...  RelationshipSatisfaction StandardHours  StockOptionLevel  \\\n",
      "0  ...                         1            80                 0   \n",
      "1  ...                         4            80                 1   \n",
      "2  ...                         2            80                 0   \n",
      "3  ...                         3            80                 0   \n",
      "4  ...                         4            80                 1   \n",
      "\n",
      "   TotalWorkingYears  TrainingTimesLastYear WorkLifeBalance  YearsAtCompany  \\\n",
      "0                  8                      0               1               6   \n",
      "1                 10                      3               3              10   \n",
      "2                  7                      3               3               0   \n",
      "3                  8                      3               3               8   \n",
      "4                  6                      3               3               2   \n",
      "\n",
      "  YearsInCurrentRole  YearsSinceLastPromotion  YearsWithCurrManager  \n",
      "0                  4                        0                     5  \n",
      "1                  7                        1                     7  \n",
      "2                  0                        0                     0  \n",
      "3                  7                        3                     0  \n",
      "4                  2                        2                     2  \n",
      "\n",
      "[5 rows x 35 columns]\n"
     ]
    }
   ],
   "source": [
    "# This is the first dataset for HR Employee to be preprocessing\n",
    "data=pd.read_csv(r\"C:\\Users\\User\\Downloads\\archive (6)\\HR-Employee-Attrition.csv\")\n",
    "print(data.head())"
   ]
  },
  {
   "cell_type": "code",
   "execution_count": 24,
   "id": "0b975c36-f15f-4bc1-b6b4-e55f8a1d10aa",
   "metadata": {},
   "outputs": [
    {
     "name": "stdout",
     "output_type": "stream",
     "text": [
      "Missing values before cleaning:\n",
      "Age                         0\n",
      "Attrition                   0\n",
      "BusinessTravel              0\n",
      "DailyRate                   0\n",
      "Department                  0\n",
      "DistanceFromHome            0\n",
      "Education                   0\n",
      "EducationField              0\n",
      "EmployeeCount               0\n",
      "EmployeeNumber              0\n",
      "EnvironmentSatisfaction     0\n",
      "Gender                      0\n",
      "HourlyRate                  0\n",
      "JobInvolvement              0\n",
      "JobLevel                    0\n",
      "JobRole                     0\n",
      "JobSatisfaction             0\n",
      "MaritalStatus               0\n",
      "MonthlyIncome               0\n",
      "MonthlyRate                 0\n",
      "NumCompaniesWorked          0\n",
      "Over18                      0\n",
      "OverTime                    0\n",
      "PercentSalaryHike           0\n",
      "PerformanceRating           0\n",
      "RelationshipSatisfaction    0\n",
      "StandardHours               0\n",
      "StockOptionLevel            0\n",
      "TotalWorkingYears           0\n",
      "TrainingTimesLastYear       0\n",
      "WorkLifeBalance             0\n",
      "YearsAtCompany              0\n",
      "YearsInCurrentRole          0\n",
      "YearsSinceLastPromotion     0\n",
      "YearsWithCurrManager        0\n",
      "dtype: int64\n"
     ]
    }
   ],
   "source": [
    "# Step 1: Check for missing values\n",
    "print(\"Missing values before cleaning:\")\n",
    "print(data.isnull().sum())"
   ]
  },
  {
   "cell_type": "code",
   "execution_count": 25,
   "id": "38726102-e7f1-40f4-97e5-5c9ced8fbe2d",
   "metadata": {},
   "outputs": [
    {
     "name": "stdout",
     "output_type": "stream",
     "text": [
      "['Age', 'Attrition', 'BusinessTravel', 'DailyRate', 'Department', 'DistanceFromHome', 'Education', 'EducationField', 'EmployeeCount', 'EmployeeNumber', 'EnvironmentSatisfaction', 'Gender', 'HourlyRate', 'JobInvolvement', 'JobLevel', 'JobRole', 'JobSatisfaction', 'MaritalStatus', 'MonthlyIncome', 'MonthlyRate', 'NumCompaniesWorked', 'Over18', 'OverTime', 'PercentSalaryHike', 'PerformanceRating', 'RelationshipSatisfaction', 'StandardHours', 'StockOptionLevel', 'TotalWorkingYears', 'TrainingTimesLastYear', 'WorkLifeBalance', 'YearsAtCompany', 'YearsInCurrentRole', 'YearsSinceLastPromotion', 'YearsWithCurrManager']\n"
     ]
    }
   ],
   "source": [
    "print(data.columns.tolist())"
   ]
  },
  {
   "cell_type": "code",
   "execution_count": 8,
   "id": "a0d32f58-7640-4cc4-b646-31da3561d507",
   "metadata": {},
   "outputs": [
    {
     "name": "stdout",
     "output_type": "stream",
     "text": [
      "Dataset contains 1470 rows and 35 columns.\n"
     ]
    }
   ],
   "source": [
    "#Size of data\n",
    "\n",
    "print(f\"Dataset contains {data.shape[0]} rows and {data.shape[1]} columns.\")"
   ]
  },
  {
   "cell_type": "code",
   "execution_count": 9,
   "id": "546f17e6-9cea-4bb6-82cd-86c3e7cc650d",
   "metadata": {},
   "outputs": [
    {
     "name": "stdout",
     "output_type": "stream",
     "text": [
      "Age                          int64\n",
      "Attrition                   object\n",
      "BusinessTravel              object\n",
      "DailyRate                    int64\n",
      "Department                  object\n",
      "DistanceFromHome             int64\n",
      "Education                    int64\n",
      "EducationField              object\n",
      "EmployeeCount                int64\n",
      "EmployeeNumber               int64\n",
      "EnvironmentSatisfaction      int64\n",
      "Gender                      object\n",
      "HourlyRate                   int64\n",
      "JobInvolvement               int64\n",
      "JobLevel                     int64\n",
      "JobRole                     object\n",
      "JobSatisfaction              int64\n",
      "MaritalStatus               object\n",
      "MonthlyIncome                int64\n",
      "MonthlyRate                  int64\n",
      "NumCompaniesWorked           int64\n",
      "Over18                      object\n",
      "OverTime                    object\n",
      "PercentSalaryHike            int64\n",
      "PerformanceRating            int64\n",
      "RelationshipSatisfaction     int64\n",
      "StandardHours                int64\n",
      "StockOptionLevel             int64\n",
      "TotalWorkingYears            int64\n",
      "TrainingTimesLastYear        int64\n",
      "WorkLifeBalance              int64\n",
      "YearsAtCompany               int64\n",
      "YearsInCurrentRole           int64\n",
      "YearsSinceLastPromotion      int64\n",
      "YearsWithCurrManager         int64\n",
      "dtype: object\n"
     ]
    }
   ],
   "source": [
    "#Data type\n",
    "\n",
    "print(data.dtypes)"
   ]
  },
  {
   "cell_type": "code",
   "execution_count": 10,
   "id": "f735f611-d6c0-4629-8c60-17e70577fa88",
   "metadata": {},
   "outputs": [
    {
     "name": "stdout",
     "output_type": "stream",
     "text": [
      "               Age    DailyRate  DistanceFromHome    Education  EmployeeCount  \\\n",
      "count  1470.000000  1470.000000       1470.000000  1470.000000         1470.0   \n",
      "mean     36.923810   802.485714          9.192517     2.912925            1.0   \n",
      "std       9.135373   403.509100          8.106864     1.024165            0.0   \n",
      "min      18.000000   102.000000          1.000000     1.000000            1.0   \n",
      "25%      30.000000   465.000000          2.000000     2.000000            1.0   \n",
      "50%      36.000000   802.000000          7.000000     3.000000            1.0   \n",
      "75%      43.000000  1157.000000         14.000000     4.000000            1.0   \n",
      "max      60.000000  1499.000000         29.000000     5.000000            1.0   \n",
      "\n",
      "       EmployeeNumber  EnvironmentSatisfaction   HourlyRate  JobInvolvement  \\\n",
      "count     1470.000000              1470.000000  1470.000000     1470.000000   \n",
      "mean      1024.865306                 2.721769    65.891156        2.729932   \n",
      "std        602.024335                 1.093082    20.329428        0.711561   \n",
      "min          1.000000                 1.000000    30.000000        1.000000   \n",
      "25%        491.250000                 2.000000    48.000000        2.000000   \n",
      "50%       1020.500000                 3.000000    66.000000        3.000000   \n",
      "75%       1555.750000                 4.000000    83.750000        3.000000   \n",
      "max       2068.000000                 4.000000   100.000000        4.000000   \n",
      "\n",
      "          JobLevel  ...  RelationshipSatisfaction  StandardHours  \\\n",
      "count  1470.000000  ...               1470.000000         1470.0   \n",
      "mean      2.063946  ...                  2.712245           80.0   \n",
      "std       1.106940  ...                  1.081209            0.0   \n",
      "min       1.000000  ...                  1.000000           80.0   \n",
      "25%       1.000000  ...                  2.000000           80.0   \n",
      "50%       2.000000  ...                  3.000000           80.0   \n",
      "75%       3.000000  ...                  4.000000           80.0   \n",
      "max       5.000000  ...                  4.000000           80.0   \n",
      "\n",
      "       StockOptionLevel  TotalWorkingYears  TrainingTimesLastYear  \\\n",
      "count       1470.000000        1470.000000            1470.000000   \n",
      "mean           0.793878          11.279592               2.799320   \n",
      "std            0.852077           7.780782               1.289271   \n",
      "min            0.000000           0.000000               0.000000   \n",
      "25%            0.000000           6.000000               2.000000   \n",
      "50%            1.000000          10.000000               3.000000   \n",
      "75%            1.000000          15.000000               3.000000   \n",
      "max            3.000000          40.000000               6.000000   \n",
      "\n",
      "       WorkLifeBalance  YearsAtCompany  YearsInCurrentRole  \\\n",
      "count      1470.000000     1470.000000         1470.000000   \n",
      "mean          2.761224        7.008163            4.229252   \n",
      "std           0.706476        6.126525            3.623137   \n",
      "min           1.000000        0.000000            0.000000   \n",
      "25%           2.000000        3.000000            2.000000   \n",
      "50%           3.000000        5.000000            3.000000   \n",
      "75%           3.000000        9.000000            7.000000   \n",
      "max           4.000000       40.000000           18.000000   \n",
      "\n",
      "       YearsSinceLastPromotion  YearsWithCurrManager  \n",
      "count              1470.000000           1470.000000  \n",
      "mean                  2.187755              4.123129  \n",
      "std                   3.222430              3.568136  \n",
      "min                   0.000000              0.000000  \n",
      "25%                   0.000000              2.000000  \n",
      "50%                   1.000000              3.000000  \n",
      "75%                   3.000000              7.000000  \n",
      "max                  15.000000             17.000000  \n",
      "\n",
      "[8 rows x 26 columns]\n"
     ]
    }
   ],
   "source": [
    "#Display summary statistics\n",
    "\n",
    "print(data.describe())"
   ]
  },
  {
   "cell_type": "code",
   "execution_count": 12,
   "id": "fdb2b984-c436-4eaa-ab2e-84743ce8fe48",
   "metadata": {},
   "outputs": [
    {
     "name": "stdout",
     "output_type": "stream",
     "text": [
      "        Age Attrition     BusinessTravel  DailyRate              Department  \\\n",
      "0  0.547619       Yes      Travel_Rarely   0.715820                   Sales   \n",
      "1  0.738095        No  Travel_Frequently   0.126700  Research & Development   \n",
      "2  0.452381       Yes      Travel_Rarely   0.909807  Research & Development   \n",
      "3  0.357143        No  Travel_Frequently   0.923407  Research & Development   \n",
      "4  0.214286        No      Travel_Rarely   0.350036  Research & Development   \n",
      "\n",
      "   DistanceFromHome  Education EducationField  EmployeeCount  EmployeeNumber  \\\n",
      "0          0.000000       0.25  Life Sciences            0.0        0.000000   \n",
      "1          0.250000       0.00  Life Sciences            0.0        0.000484   \n",
      "2          0.035714       0.25          Other            0.0        0.001451   \n",
      "3          0.071429       0.75  Life Sciences            0.0        0.001935   \n",
      "4          0.035714       0.00        Medical            0.0        0.002903   \n",
      "\n",
      "   ...  RelationshipSatisfaction StandardHours  StockOptionLevel  \\\n",
      "0  ...                  0.000000           0.0          0.000000   \n",
      "1  ...                  1.000000           0.0          0.333333   \n",
      "2  ...                  0.333333           0.0          0.000000   \n",
      "3  ...                  0.666667           0.0          0.000000   \n",
      "4  ...                  1.000000           0.0          0.333333   \n",
      "\n",
      "   TotalWorkingYears  TrainingTimesLastYear WorkLifeBalance  YearsAtCompany  \\\n",
      "0              0.200                    0.0        0.000000            0.15   \n",
      "1              0.250                    0.5        0.666667            0.25   \n",
      "2              0.175                    0.5        0.666667            0.00   \n",
      "3              0.200                    0.5        0.666667            0.20   \n",
      "4              0.150                    0.5        0.666667            0.05   \n",
      "\n",
      "  YearsInCurrentRole  YearsSinceLastPromotion  YearsWithCurrManager  \n",
      "0           0.222222                 0.000000              0.294118  \n",
      "1           0.388889                 0.066667              0.411765  \n",
      "2           0.000000                 0.000000              0.000000  \n",
      "3           0.388889                 0.200000              0.000000  \n",
      "4           0.111111                 0.133333              0.117647  \n",
      "\n",
      "[5 rows x 35 columns]\n"
     ]
    }
   ],
   "source": [
    "from sklearn.preprocessing import MinMaxScaler\n",
    "\n",
    "# Select numeric columns only for normalization\n",
    "numeric_columns = data.select_dtypes(include=['float64', 'int64']).columns\n",
    "\n",
    "# Initialize the MinMaxScaler\n",
    "scaler = MinMaxScaler()\n",
    "\n",
    "# Normalize the numeric columns\n",
    "data[numeric_columns] = scaler.fit_transform(data[numeric_columns])\n",
    "\n",
    "# Preview the normalized data\n",
    "print(data.head())"
   ]
  },
  {
   "cell_type": "code",
   "execution_count": 14,
   "id": "bc1d1930-4535-4ddc-b80d-7a2adc11a48e",
   "metadata": {},
   "outputs": [
    {
     "name": "stdout",
     "output_type": "stream",
     "text": [
      "   CreditScore  AnnualIncome  LoanAmount  LoanDuration  Age EmploymentStatus  \\\n",
      "0          402         63295       18830            13   29    Self-Employed   \n",
      "1          735         55936       23729             1   42    Self-Employed   \n",
      "2          570         62547       19660             7   54    Self-Employed   \n",
      "3          406         46129       21674            23   25    Self-Employed   \n",
      "4          371         57725       12189            26   42         Employed   \n",
      "\n",
      "  MaritalStatus  NumberOfDependents EducationLevel HomeOwnershipStatus  ...  \\\n",
      "0       Widowed                   2      Doctorate               Other  ...   \n",
      "1      Divorced                   3         Master                 Own  ...   \n",
      "2        Single                   3      Doctorate            Mortgage  ...   \n",
      "3      Divorced                   3    High School               Other  ...   \n",
      "4       Widowed                   4         Master                 Own  ...   \n",
      "\n",
      "   JobTenure  MonthlySavings  AnnualBonuses  AnnualExpenses  \\\n",
      "0         24             378           3741           40058   \n",
      "1         10             575           4115           16745   \n",
      "2         16             691           4105           23273   \n",
      "3          6             452           4559           42163   \n",
      "4          2             690           7856           30087   \n",
      "\n",
      "   MonthlyHousingCosts  MonthlyTransportationCosts MonthlyFoodCosts  \\\n",
      "0                  977                         412              399   \n",
      "1                  695                         206              898   \n",
      "2                  627                         266              392   \n",
      "3                  397                         307              250   \n",
      "4                  723                         315              114   \n",
      "\n",
      "   MonthlyHealthcareCosts  MonthlyEntertainmentCosts  LoanApproved  \n",
      "0                     136                        124             0  \n",
      "1                     252                        131             0  \n",
      "2                      73                         36             0  \n",
      "3                     378                        -32             0  \n",
      "4                      88                         68             0  \n",
      "\n",
      "[5 rows x 51 columns]\n"
     ]
    }
   ],
   "source": [
    "# This is the second dataset to be preprocessing for Financial Risk Analysis\n",
    "data2=pd.read_csv(r\"C:\\Users\\User\\Downloads\\archive (8)\\financial_risk_analysis_large.csv\")\n",
    "print(data2.head())"
   ]
  },
  {
   "cell_type": "code",
   "execution_count": 15,
   "id": "e774e4ad-ac0c-45ad-a263-5a078391391b",
   "metadata": {},
   "outputs": [
    {
     "name": "stdout",
     "output_type": "stream",
     "text": [
      "Missing values before cleaning:\n",
      "Age                         0\n",
      "Attrition                   0\n",
      "BusinessTravel              0\n",
      "DailyRate                   0\n",
      "Department                  0\n",
      "DistanceFromHome            0\n",
      "Education                   0\n",
      "EducationField              0\n",
      "EmployeeCount               0\n",
      "EmployeeNumber              0\n",
      "EnvironmentSatisfaction     0\n",
      "Gender                      0\n",
      "HourlyRate                  0\n",
      "JobInvolvement              0\n",
      "JobLevel                    0\n",
      "JobRole                     0\n",
      "JobSatisfaction             0\n",
      "MaritalStatus               0\n",
      "MonthlyIncome               0\n",
      "MonthlyRate                 0\n",
      "NumCompaniesWorked          0\n",
      "Over18                      0\n",
      "OverTime                    0\n",
      "PercentSalaryHike           0\n",
      "PerformanceRating           0\n",
      "RelationshipSatisfaction    0\n",
      "StandardHours               0\n",
      "StockOptionLevel            0\n",
      "TotalWorkingYears           0\n",
      "TrainingTimesLastYear       0\n",
      "WorkLifeBalance             0\n",
      "YearsAtCompany              0\n",
      "YearsInCurrentRole          0\n",
      "YearsSinceLastPromotion     0\n",
      "YearsWithCurrManager        0\n",
      "dtype: int64\n"
     ]
    }
   ],
   "source": [
    "# Step 1: Check for missing values\n",
    "print(\"Missing values before cleaning:\")\n",
    "print(data.isnull().sum())\n"
   ]
  },
  {
   "cell_type": "code",
   "execution_count": 16,
   "id": "3f28b412-9a4e-4371-ac25-24b6cb36bc3a",
   "metadata": {},
   "outputs": [
    {
     "name": "stdout",
     "output_type": "stream",
     "text": [
      "Dataset contains 1470 rows and 35 columns.\n"
     ]
    }
   ],
   "source": [
    "#Size of data\n",
    "\n",
    "print(f\"Dataset contains {data.shape[0]} rows and {data.shape[1]} columns.\")"
   ]
  },
  {
   "cell_type": "code",
   "execution_count": 17,
   "id": "f9b3d250-5674-44ee-84aa-ddbc1c4d2a47",
   "metadata": {},
   "outputs": [
    {
     "name": "stdout",
     "output_type": "stream",
     "text": [
      "Age                         float64\n",
      "Attrition                    object\n",
      "BusinessTravel               object\n",
      "DailyRate                   float64\n",
      "Department                   object\n",
      "DistanceFromHome            float64\n",
      "Education                   float64\n",
      "EducationField               object\n",
      "EmployeeCount               float64\n",
      "EmployeeNumber              float64\n",
      "EnvironmentSatisfaction     float64\n",
      "Gender                       object\n",
      "HourlyRate                  float64\n",
      "JobInvolvement              float64\n",
      "JobLevel                    float64\n",
      "JobRole                      object\n",
      "JobSatisfaction             float64\n",
      "MaritalStatus                object\n",
      "MonthlyIncome               float64\n",
      "MonthlyRate                 float64\n",
      "NumCompaniesWorked          float64\n",
      "Over18                       object\n",
      "OverTime                     object\n",
      "PercentSalaryHike           float64\n",
      "PerformanceRating           float64\n",
      "RelationshipSatisfaction    float64\n",
      "StandardHours               float64\n",
      "StockOptionLevel            float64\n",
      "TotalWorkingYears           float64\n",
      "TrainingTimesLastYear       float64\n",
      "WorkLifeBalance             float64\n",
      "YearsAtCompany              float64\n",
      "YearsInCurrentRole          float64\n",
      "YearsSinceLastPromotion     float64\n",
      "YearsWithCurrManager        float64\n",
      "dtype: object\n"
     ]
    }
   ],
   "source": [
    "#Data type\n",
    "\n",
    "print(data.dtypes)"
   ]
  },
  {
   "cell_type": "code",
   "execution_count": 18,
   "id": "a32a022d-71f5-4260-9b16-de864f211823",
   "metadata": {},
   "outputs": [
    {
     "name": "stdout",
     "output_type": "stream",
     "text": [
      "Age                         float64\n",
      "Attrition                    object\n",
      "BusinessTravel               object\n",
      "DailyRate                   float64\n",
      "Department                   object\n",
      "DistanceFromHome            float64\n",
      "Education                   float64\n",
      "EducationField               object\n",
      "EmployeeCount               float64\n",
      "EmployeeNumber              float64\n",
      "EnvironmentSatisfaction     float64\n",
      "Gender                       object\n",
      "HourlyRate                  float64\n",
      "JobInvolvement              float64\n",
      "JobLevel                    float64\n",
      "JobRole                      object\n",
      "JobSatisfaction             float64\n",
      "MaritalStatus                object\n",
      "MonthlyIncome               float64\n",
      "MonthlyRate                 float64\n",
      "NumCompaniesWorked          float64\n",
      "Over18                       object\n",
      "OverTime                     object\n",
      "PercentSalaryHike           float64\n",
      "PerformanceRating           float64\n",
      "RelationshipSatisfaction    float64\n",
      "StandardHours               float64\n",
      "StockOptionLevel            float64\n",
      "TotalWorkingYears           float64\n",
      "TrainingTimesLastYear       float64\n",
      "WorkLifeBalance             float64\n",
      "YearsAtCompany              float64\n",
      "YearsInCurrentRole          float64\n",
      "YearsSinceLastPromotion     float64\n",
      "YearsWithCurrManager        float64\n",
      "dtype: object\n"
     ]
    }
   ],
   "source": [
    "#Data type\n",
    "\n",
    "print(data.dtypes)"
   ]
  },
  {
   "cell_type": "code",
   "execution_count": 22,
   "id": "8656156b-2833-4d7c-ad43-e042b71ccc31",
   "metadata": {},
   "outputs": [
    {
     "name": "stdout",
     "output_type": "stream",
     "text": [
      "   CreditScore  AnnualIncome  LoanAmount  LoanDuration       Age  \\\n",
      "0     0.185792      0.513521    0.476305      0.428571  0.215686   \n",
      "1     0.792350      0.461726    0.574637      0.000000  0.470588   \n",
      "2     0.491803      0.508256    0.492965      0.214286  0.705882   \n",
      "3     0.193078      0.392701    0.533390      0.785714  0.137255   \n",
      "4     0.129326      0.474317    0.343008      0.892857  0.470588   \n",
      "\n",
      "  EmploymentStatus MaritalStatus  NumberOfDependents EducationLevel  \\\n",
      "0    Self-Employed       Widowed                0.50      Doctorate   \n",
      "1    Self-Employed      Divorced                0.75         Master   \n",
      "2    Self-Employed        Single                0.75      Doctorate   \n",
      "3    Self-Employed      Divorced                0.75    High School   \n",
      "4         Employed       Widowed                1.00         Master   \n",
      "\n",
      "  HomeOwnershipStatus  ...  JobTenure  MonthlySavings  AnnualBonuses  \\\n",
      "0               Other  ...   0.615385        0.440536       0.420640   \n",
      "1                 Own  ...   0.256410        0.506533       0.441138   \n",
      "2            Mortgage  ...   0.410256        0.545394       0.440590   \n",
      "3               Other  ...   0.153846        0.465327       0.465472   \n",
      "4                 Own  ...   0.051282        0.545059       0.646169   \n",
      "\n",
      "   AnnualExpenses  MonthlyHousingCosts  MonthlyTransportationCosts  \\\n",
      "0        0.597329             0.525514                    0.569923   \n",
      "1        0.359098             0.453922                    0.425158   \n",
      "2        0.425807             0.436659                    0.467323   \n",
      "3        0.618839             0.378269                    0.496135   \n",
      "4        0.495437             0.461031                    0.501757   \n",
      "\n",
      "  MonthlyFoodCosts  MonthlyHealthcareCosts  MonthlyEntertainmentCosts  \\\n",
      "0         0.494229                0.478006                   0.550111   \n",
      "1         0.756034                0.591398                   0.565702   \n",
      "2         0.490556                0.416422                   0.354120   \n",
      "3         0.416055                0.714565                   0.202673   \n",
      "4         0.344701                0.431085                   0.425390   \n",
      "\n",
      "   LoanApproved  \n",
      "0           0.0  \n",
      "1           0.0  \n",
      "2           0.0  \n",
      "3           0.0  \n",
      "4           0.0  \n",
      "\n",
      "[5 rows x 51 columns]\n"
     ]
    }
   ],
   "source": [
    "from sklearn.preprocessing import MinMaxScaler\n",
    "\n",
    "# Select numeric columns only for normalization\n",
    "numeric_columns = data2.select_dtypes(include=['float64', 'int64']).columns\n",
    "\n",
    "# Initialize the MinMaxScaler\n",
    "scaler = MinMaxScaler()\n",
    "\n",
    "# Normalize the numeric columns\n",
    "data2[numeric_columns] = scaler.fit_transform(data2[numeric_columns])\n",
    "\n",
    "# Preview the normalized data\n",
    "print(data2.head())"
   ]
  },
  {
   "cell_type": "code",
   "execution_count": null,
   "id": "df3a5875-cdf7-4863-8e91-b7b7b3eb6a28",
   "metadata": {},
   "outputs": [],
   "source": []
  }
 ],
 "metadata": {
  "kernelspec": {
   "display_name": "Python 3 (ipykernel)",
   "language": "python",
   "name": "python3"
  },
  "language_info": {
   "codemirror_mode": {
    "name": "ipython",
    "version": 3
   },
   "file_extension": ".py",
   "mimetype": "text/x-python",
   "name": "python",
   "nbconvert_exporter": "python",
   "pygments_lexer": "ipython3",
   "version": "3.12.3"
  }
 },
 "nbformat": 4,
 "nbformat_minor": 5
}
